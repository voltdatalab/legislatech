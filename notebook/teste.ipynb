{
 "cells": [
  {
   "cell_type": "code",
   "execution_count": 5,
   "metadata": {},
   "outputs": [],
   "source": [
    "import pandas as pd\n",
    "texto = \"\"\" Espécie: Contrato nº 33/2023 entre o STF e a empresa ECOPENSE COLETA DE RESÍDUOS\n",
    "LTDA (Processo SEI nº 002758/2022). Objeto prestação de serviços continuados de\n",
    "gerenciamento de resíduos sólidos urbanos não perigosos gerados nas dependências do\n",
    "STF e do CNJ, abrangendo as etapas de coleta, transporte, transbordo, tratamento e\n",
    "destinação ou disposição final ambientalmente adequado. Valor total: R$ 72.000,00\n",
    "(setenta e dois mil reais). Fundamento Legal: Lei nº. 8.666/1993. Assinatura: 01/06/2023.\n",
    "Vigência: 12 (doze) meses, a contar de sua assinatura, podendo ser prorrogado pelo\n",
    "período de até 60 (sessenta) meses. Assinam: pelo STF, Márcio Kazuaki Fusissava,\n",
    "Secretário de Orçamento, Finanças e Contratações, pela empresa, Tiago Antonio Oliveira\n",
    "Pontes, Representante Legal\"\"\".lower()\n",
    "texto2 = \"Aqui na discordancia foi legal\"\n",
    "df = pd.DataFrame({'texto': [texto,texto2,'a iniciativa ECOPENSE foi legal', 'Ola cooperacao aqui', 'na COP 25', 'aqui na ecopense foi mara']})"
   ]
  },
  {
   "cell_type": "code",
   "execution_count": 1,
   "metadata": {},
   "outputs": [],
   "source": [
    "import re\n",
    "\n",
    "class DOU():\n",
    "    def __init__(self, termos, termos_lista):\n",
    "        self.termos = termos\n",
    "        self.termos_lista = termos_lista\n",
    "\n",
    "    def has_match(self, texto, termos):\n",
    "        regex = re.compile(fr'\\b({\"|\".join(termos)})\\b', flags=re.IGNORECASE)\n",
    "        return bool(regex.search(texto))\n",
    "\n",
    "    def select_termos(self, dados):\n",
    "        print(\"\\n------------ Selecionando termos\")\n",
    "        seleciona = dados[dados['texto'].apply(lambda x: self.has_match(x, self.termos))].copy()\n",
    "        seleciona['termo'] = seleciona['texto'].str.extract(fr\"({'|'.join(self.termos)})\", flags=re.IGNORECASE)\n",
    "        seleciona['termo'] = seleciona['termo'].str.strip()\n",
    "\n",
    "        correspondentes = []\n",
    "        for termo in seleciona['termo']:\n",
    "            \n",
    "            correspondente = self.termos_lista[termo]\n",
    "            correspondentes.append(correspondente)\n",
    "\n",
    "        seleciona['termos_id'] = correspondentes\n",
    "        \n",
    "        print('Tramitações com Termos encontrados:', len(seleciona))\n",
    "        return seleciona"
   ]
  },
  {
   "cell_type": "code",
   "execution_count": 7,
   "metadata": {},
   "outputs": [],
   "source": [
    "dou = DOU(['cop', 'discord'], {'COP': 1, 'DISCORD': 2})'})"
   ]
  },
  {
   "cell_type": "code",
   "execution_count": 8,
   "metadata": {},
   "outputs": [
    {
     "name": "stdout",
     "output_type": "stream",
     "text": [
      "\n",
      "------------ Selecionando termos\n",
      "Tramitações com Termos encontrados: 1\n"
     ]
    },
    {
     "data": {
      "text/html": [
       "<div>\n",
       "<style scoped>\n",
       "    .dataframe tbody tr th:only-of-type {\n",
       "        vertical-align: middle;\n",
       "    }\n",
       "\n",
       "    .dataframe tbody tr th {\n",
       "        vertical-align: top;\n",
       "    }\n",
       "\n",
       "    .dataframe thead th {\n",
       "        text-align: right;\n",
       "    }\n",
       "</style>\n",
       "<table border=\"1\" class=\"dataframe\">\n",
       "  <thead>\n",
       "    <tr style=\"text-align: right;\">\n",
       "      <th></th>\n",
       "      <th>texto</th>\n",
       "      <th>termo</th>\n",
       "      <th>termos_id</th>\n",
       "    </tr>\n",
       "  </thead>\n",
       "  <tbody>\n",
       "    <tr>\n",
       "      <th>3</th>\n",
       "      <td>na COP 25</td>\n",
       "      <td>COP</td>\n",
       "      <td>1</td>\n",
       "    </tr>\n",
       "  </tbody>\n",
       "</table>\n",
       "</div>"
      ],
      "text/plain": [
       "       texto termo  termos_id\n",
       "3  na COP 25   COP          1"
      ]
     },
     "execution_count": 8,
     "metadata": {},
     "output_type": "execute_result"
    }
   ],
   "source": [
    "dou.select_termos(df)"
   ]
  }
 ],
 "metadata": {
  "kernelspec": {
   "display_name": ".venv",
   "language": "python",
   "name": "python3"
  },
  "language_info": {
   "codemirror_mode": {
    "name": "ipython",
    "version": 3
   },
   "file_extension": ".py",
   "mimetype": "text/x-python",
   "name": "python",
   "nbconvert_exporter": "python",
   "pygments_lexer": "ipython3",
   "version": "3.8.10"
  },
  "orig_nbformat": 4
 },
 "nbformat": 4,
 "nbformat_minor": 2
}
